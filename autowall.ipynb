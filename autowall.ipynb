{
 "cells": [
  {
   "cell_type": "code",
   "execution_count": 23,
   "metadata": {},
   "outputs": [
    {
     "name": "stdout",
     "output_type": "stream",
     "text": [
      "Estimated number of clusters: 112\n"
     ]
    }
   ],
   "source": [
    "import numpy as np\n",
    "import matplotlib.pyplot as plt\n",
    "import plotly.graph_objects as go\n",
    "from sklearn.cluster import DBSCAN, MeanShift, KMeans\n",
    "import laspy\n",
    "\n",
    "# Load the .las file using the new laspy 2.0 API\n",
    "las_file_path = '../data/nivo_lidar_clipped.las'\n",
    "las_data = laspy.read(las_file_path)\n",
    "\n",
    "# Extract the points from the file\n",
    "points = np.vstack((las_data.x, las_data.y, las_data.z)).transpose()\n",
    "\n",
    "# Clustering\n",
    "db = DBSCAN(eps=2.0, min_samples=200).fit(points)\n",
    "labels = db.labels_\n",
    "\n",
    "# Number of clusters in labels, ignoring noise if present.\n",
    "n_clusters_ = len(set(labels)) - (1 if -1 in labels else 0)\n",
    "\n",
    "print('Estimated number of clusters: %d' % n_clusters_)\n",
    "\n",
    "# Create a color map for the clusters\n",
    "colors = (plt.cm.jet(np.linspace(0, 1, n_clusters_)) * 255).astype(int)"
   ]
  },
  {
   "cell_type": "code",
   "execution_count": 24,
   "metadata": {},
   "outputs": [
    {
     "name": "stdout",
     "output_type": "stream",
     "text": [
      "\u001b[1;33m[Open3D WARNING] GLFW Error: Cocoa: Failed to find service port for display\u001b[0;m\n"
     ]
    }
   ],
   "source": [
    "import numpy as np\n",
    "import open3d as o3d\n",
    "import laspy\n",
    "\n",
    "# Load the LAS file\n",
    "las = laspy.read('../data/nivo_lidar_clipped.las')\n",
    "\n",
    "# Extract point data\n",
    "point_data = np.stack([las.X, las.Y, las.Z], axis=0).transpose((1, 0))\n",
    "\n",
    "# Create an Open3D point cloud object\n",
    "geom = o3d.geometry.PointCloud()\n",
    "geom.points = o3d.utility.Vector3dVector(point_data)\n",
    "\n",
    "# Color the clusters\n",
    "colors = np.array([(np.random.rand(), np.random.rand(), np.random.rand()) for i in range(n_clusters_)])\n",
    "\n",
    "# If DBSCAN has been applied and you have a labels array:\n",
    "geom.colors = o3d.utility.Vector3dVector(colors[labels])\n",
    "\n",
    "# Visualize\n",
    "o3d.visualization.draw_geometries([geom])"
   ]
  }
 ],
 "metadata": {
  "kernelspec": {
   "display_name": "Overlens",
   "language": "python",
   "name": "python3"
  },
  "language_info": {
   "codemirror_mode": {
    "name": "ipython",
    "version": 3
   },
   "file_extension": ".py",
   "mimetype": "text/x-python",
   "name": "python",
   "nbconvert_exporter": "python",
   "pygments_lexer": "ipython3",
   "version": "3.9.16"
  }
 },
 "nbformat": 4,
 "nbformat_minor": 2
}
